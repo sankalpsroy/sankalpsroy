{
  "nbformat": 4,
  "nbformat_minor": 0,
  "metadata": {
    "colab": {
      "name": "Innodatics Internship I",
      "provenance": [],
      "authorship_tag": "ABX9TyMbtfT6tQu1QCz1k6JQ/+lW",
      "include_colab_link": true
    },
    "kernelspec": {
      "name": "python3",
      "display_name": "Python 3"
    },
    "language_info": {
      "name": "python"
    }
  },
  "cells": [
    {
      "cell_type": "markdown",
      "metadata": {
        "id": "view-in-github",
        "colab_type": "text"
      },
      "source": [
        "<a href=\"https://colab.research.google.com/github/sankalpsroy/sankalpsroy/blob/main/Innodatics_Internship_I.ipynb\" target=\"_parent\"><img src=\"https://colab.research.google.com/assets/colab-badge.svg\" alt=\"Open In Colab\"/></a>"
      ]
    },
    {
      "cell_type": "markdown",
      "source": [
        "Credit Scoring : Innodatics Internship"
      ],
      "metadata": {
        "id": "E8Qx4a9P92jD"
      }
    },
    {
      "cell_type": "code",
      "source": [
        "# importing the necesary libraries for the project\n",
        "import pandas as pd\n",
        "import numpy as np\n",
        "import matplotlib.pyplot as plt\n",
        "import seaborn as sns\n",
        "%matplotlib inline\n"
      ],
      "metadata": {
        "id": "skoO3CaM-fHj"
      },
      "execution_count": null,
      "outputs": []
    }
  ]
}